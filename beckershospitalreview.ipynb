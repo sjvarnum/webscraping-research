{
 "cells": [
  {
   "cell_type": "code",
   "execution_count": 8,
   "metadata": {},
   "outputs": [],
   "source": [
    "from datetime import datetime\n",
    "import pandas as pd\n",
    "import random\n",
    "from requests_html import HTML\n",
    "from selenium import webdriver\n",
    "from selenium.webdriver.firefox.options import Options\n",
    "from selenium.webdriver.common.by import By\n",
    "from selenium.webdriver.support.ui import Select\n",
    "from selenium.webdriver.support.ui import WebDriverWait\n",
    "from selenium.webdriver.support import expected_conditions as EC\n",
    "from selenium.webdriver.firefox.service import Service\n",
    "from selenium.common.exceptions import *\n",
    "import sqlalchemy\n",
    "from sqlalchemy import create_engine\n",
    "from sqlalchemy.ext.declarative import declarative_base\n",
    "from sqlalchemy.orm import sessionmaker\n",
    "from sqlalchemy import Column, String, Date, Integer\n",
    "from time import sleep\n"
   ]
  },
  {
   "cell_type": "code",
   "execution_count": 7,
   "metadata": {},
   "outputs": [],
   "source": [
    "\n",
    "service = Service('geckodriver.exe')\n",
    "options = webdriver.FirefoxOptions()\n",
    "options.add_argument('-headless')\n",
    "base_url = 'https://www.beckershospitalreview.com'\n",
    "driver = webdriver.Firefox(service=service, options=options)\n",
    "wait = WebDriverWait(driver, 10)\n",
    "\n",
    "pages = range(0, 20, 20)\n",
    "urls = []\n",
    "for page in pages:\n",
    "    url = f'https://www.beckershospitalreview.com/?start={page}'\n",
    "    urls.append(url)\n",
    "\n",
    "article_list = []\n",
    "for url in urls:\n",
    "    driver.get(url)\n",
    "    body = driver.page_source\n",
    "    html = HTML(html=body)\n",
    "\n",
    "    articles = html.find('.article')\n",
    "\n",
    "    for article in articles:\n",
    "        try:\n",
    "            title = article.find('.article-title', first=True).text\n",
    "        except:\n",
    "            None\n",
    "        try:\n",
    "            link = base_url + \\\n",
    "                article.find('.article-title', first=True).links.pop()\n",
    "        except:\n",
    "            None\n",
    "        try:\n",
    "            date = article.find('.article-date > time', first=True)\n",
    "            date = date.attrs['datetime']\n",
    "            date = date.split('T')[0]\n",
    "        except:\n",
    "            None\n",
    "        try:\n",
    "            channel = link.split('/')[3]\n",
    "        except:\n",
    "            None\n",
    "\n",
    "        data = {\n",
    "            'Date': date,\n",
    "            'Channel': channel,\n",
    "            'Title': title,\n",
    "            'Link': link\n",
    "        }\n",
    "\n",
    "        article_list.append(data)\n",
    "\n",
    "        n = random.randint(1, 5)\n",
    "        sleep(n)\n",
    "\n",
    "driver.close()\n",
    "\n",
    "df = pd.DataFrame(article_list)\n",
    "df['Date'] = pd.to_datetime(df['Date']).dt.strftime('%Y-%m-%d')\n",
    "df['Source'] = 'Becker\\'s Hospital Review'\n",
    "df = df[['Date', 'Source', 'Channel', 'Title', 'Link']]\n",
    "df.drop_duplicates(inplace=True)\n",
    "datestamp = datetime.today().strftime('%Y%m%dT%H%M')\n",
    "df.to_csv(f'Beckers_Hospital_Review_Articles_{datestamp}.csv', index=None)\n"
   ]
  },
  {
   "cell_type": "code",
   "execution_count": 15,
   "metadata": {},
   "outputs": [],
   "source": [
    "# Use SQLite engine\n",
    "engine = create_engine('sqlite:///pharma.db')\n",
    "\n",
    "Session = sessionmaker(bind=engine)\n",
    "my_sess = Session()\n",
    "\n",
    "Base = declarative_base()\n",
    "\n",
    "class BeckersHospitalReview(Base):\n",
    "    __tablename__ = 'beckers_hospital_review_articles'\n",
    "\n",
    "    id = Column(Integer, primary_key=True)\n",
    "    date = Column(Date)\n",
    "    source = Column(String)\n",
    "    channel = Column(String)\n",
    "    title = Column(String)\n",
    "    link = Column(String)\n",
    "\n",
    "    def __repr__(self):\n",
    "        return f'<BeckersHospitalReview title={self.title}>'\n",
    "\n",
    "# Add table to database\n",
    "Base.metadata.create_all(engine)"
   ]
  },
  {
   "cell_type": "code",
   "execution_count": 14,
   "metadata": {},
   "outputs": [
    {
     "data": {
      "text/plain": [
       "20"
      ]
     },
     "execution_count": 14,
     "metadata": {},
     "output_type": "execute_result"
    }
   ],
   "source": [
    "df.to_sql('beckers_hospital_review_articles', con=engine, if_exists='append', index=False)"
   ]
  },
  {
   "cell_type": "code",
   "execution_count": null,
   "metadata": {},
   "outputs": [],
   "source": []
  }
 ],
 "metadata": {
  "interpreter": {
   "hash": "17697c56d320d6ac4fe7b78d551f9ad381e7d5250fdcdede429255d6319ed452"
  },
  "kernelspec": {
   "display_name": "Python 3.9.5 64-bit ('venv': venv)",
   "language": "python",
   "name": "python3"
  },
  "language_info": {
   "codemirror_mode": {
    "name": "ipython",
    "version": 3
   },
   "file_extension": ".py",
   "mimetype": "text/x-python",
   "name": "python",
   "nbconvert_exporter": "python",
   "pygments_lexer": "ipython3",
   "version": "3.9.5"
  },
  "orig_nbformat": 4
 },
 "nbformat": 4,
 "nbformat_minor": 2
}
